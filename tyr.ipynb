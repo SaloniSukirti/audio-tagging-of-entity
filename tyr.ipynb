{
 "cells": [
  {
   "cell_type": "code",
   "execution_count": 3,
   "metadata": {},
   "outputs": [],
   "source": [
    "import pickle\n",
    "import os\n",
    "import numpy as np \n",
    "from tqdm import tqdm\n",
    "from scipy.io import wavfile\n",
    "from python_speech_features import mfcc\n",
    "from keras.models import load_model\n",
    "import pandas as pd\n",
    "from sklearn.metrics import accuracy_score\n"
   ]
  },
  {
   "cell_type": "code",
   "execution_count": 4,
   "metadata": {},
   "outputs": [
    {
     "name": "stdout",
     "output_type": "stream",
     "text": [
      "Number of perfect sums: 1\n"
     ]
    }
   ],
   "source": [
    "def count_perfect_sums(length, arr, target):\n",
    "    if not all(isinstance(x, int) for x in arr):\n",
    "        return 999\n",
    "    \n",
    "    count = 0\n",
    "    n = len(arr)\n",
    "\n",
    "    def is_perfect_sum(subset, target):\n",
    "        return sum(subset) == target\n",
    "\n",
    "    def find_subsets(start, subset, subset_sum):\n",
    "        nonlocal count\n",
    "        if is_perfect_sum(subset, target):\n",
    "            count += 1\n",
    "        for i in range(start, n):\n",
    "            find_subsets(i + 1, subset + [arr[i]], subset_sum + arr[i])\n",
    "\n",
    "    find_subsets(0, [], 0)\n",
    "    return count if count != 0 else 999\n",
    "\n",
    "# Test case\n",
    "input1 = 5\n",
    "input2 = [9, 7, 3, 12, 7]\n",
    "input3 = 14\n",
    "\n",
    "result = count_perfect_sums(input1, input2, input3)\n",
    "print(\"Number of perfect sums:\", result)\n"
   ]
  },
  {
   "cell_type": "code",
   "execution_count": 20,
   "metadata": {},
   "outputs": [
    {
     "name": "stdout",
     "output_type": "stream",
     "text": [
      "Combinations summing to 5: 999\n"
     ]
    }
   ],
   "source": [
    "def find_combinations_sum(length, arr, target):\n",
    "    if not arr or not all(isinstance(x, int) for x in arr):\n",
    "        return []\n",
    "\n",
    "    combinations = []\n",
    "\n",
    "    def backtrack(start, current_sum, subset):\n",
    "        if current_sum == target:\n",
    "            combinations.append(subset[:])  # Append a copy of the subset to combinations\n",
    "\n",
    "        if current_sum > target:\n",
    "            return\n",
    "\n",
    "        for i in range(start, len(arr)):\n",
    "            subset.append(arr[i])\n",
    "            backtrack(i + 1, current_sum + arr[i], subset)\n",
    "            subset.pop()\n",
    "\n",
    "    backtrack(0, 0, [])\n",
    "    return len(combinations) if combinations else 999\n",
    "\n",
    "# Test case\n",
    "input1 = 5\n",
    "input2 = [9,7,3,12,7]\n",
    "input3 = 2\n",
    "\n",
    "combinations = find_combinations_sum(input1, input2, input3)\n",
    "print(\"Combinations summing to 5:\", combinations)\n"
   ]
  },
  {
   "cell_type": "code",
   "execution_count": 25,
   "metadata": {},
   "outputs": [
    {
     "name": "stdout",
     "output_type": "stream",
     "text": [
      "6\n"
     ]
    }
   ],
   "source": [
    "class Vehicle:\n",
    "    wheels = 4\n",
    "\n",
    "    def __str__(self) -> str:\n",
    "        wheels = 3\n",
    "        return wheels\n",
    "    \n",
    "    def __init__(self) -> None:\n",
    "        self.wheels = 6\n",
    "\n",
    "\n",
    "try:\n",
    "    auto = Vehicle()\n",
    "    print(auto.wheels)\n",
    "except Exception as e:\n",
    "    print(e.__class__)\n",
    "\n"
   ]
  },
  {
   "cell_type": "code",
   "execution_count": null,
   "metadata": {},
   "outputs": [],
   "source": []
  }
 ],
 "metadata": {
  "kernelspec": {
   "display_name": "audio_lib",
   "language": "python",
   "name": "python3"
  },
  "language_info": {
   "codemirror_mode": {
    "name": "ipython",
    "version": 3
   },
   "file_extension": ".py",
   "mimetype": "text/x-python",
   "name": "python",
   "nbconvert_exporter": "python",
   "pygments_lexer": "ipython3",
   "version": "3.8.17"
  }
 },
 "nbformat": 4,
 "nbformat_minor": 2
}
